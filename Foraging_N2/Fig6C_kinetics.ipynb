{
 "cells": [
  {
   "cell_type": "code",
   "execution_count": 2,
   "metadata": {},
   "outputs": [],
   "source": [
    "#data format library\n",
    "import h5py\n",
    "#numpy\n",
    "import numpy as np\n",
    "import numpy.ma as ma\n",
    "import matplotlib.pyplot as plt\n",
    "# %matplotlib notebook\n",
    "from sklearn.cluster import KMeans\n",
    "\n",
    "import sys\n",
    "from mpl_toolkits.mplot3d import Axes3D\n",
    "import matplotlib.colors as colors\n",
    "import os\n",
    "from scipy.integrate import odeint\n",
    "#change path to where 'manuscript_data' is saved\n",
    "dir_path = '/home/antonio/Repositories/manuscript_data/'\n",
    "sys.path.append(dir_path+'/code/utils/')\n",
    "import operator_calculations as op_calc\n",
    "import delay_embedding as embed\n",
    "import worm_dynamics as worm_dyn\n",
    "import stats\n",
    "import clustering_methods as cl\n",
    "from sklearn.linear_model import LinearRegression\n",
    "colors_state_=plt.rcParams['axes.prop_cycle'].by_key()['color'][:10]"
   ]
  },
  {
   "cell_type": "code",
   "execution_count": 3,
   "metadata": {},
   "outputs": [],
   "source": [
    "mat=h5py.File(dir_path+'Foraging/ForagingData/PNAS2011-DataStitched.mat','r')\n",
    "\n",
    "refs=list(mat['#refs#'].keys())[1:]\n",
    "tseries_w=[ma.masked_invalid(np.array(mat['#refs#'][ref]).T)[:,:5] for ref in refs]\n",
    "mat.close()\n",
    "frameRate=16.\n",
    "dt=1/frameRate\n",
    "\n",
    "masked_ts_w = []\n",
    "for worm in np.arange(len(tseries_w)):\n",
    "    ts_w = tseries_w[worm]\n",
    "    ts_w[0] = ma.masked\n",
    "    ts_w[-1] = ma.masked\n",
    "    masked_ts_w.append(ts_w)\n",
    "\n",
    "import worm_dynamics as worm_dyn\n",
    "segments=op_calc.segment_maskedArray(ma.vstack(masked_ts_w),5)\n",
    "omegas_all=ma.zeros(ma.vstack(masked_ts_w).shape[0])\n",
    "a3s_all=ma.zeros(ma.vstack(masked_ts_w).shape[0])\n",
    "for t0,tf in segments:\n",
    "    phi,omega,a3=worm_dyn.compute_phi_omega_a3(ma.vstack(masked_ts_w),t0,tf)\n",
    "    omegas_all[t0:tf] = omega\n",
    "    a3s_all[t0:tf] = a3\n",
    "omegas_all[omegas_all==0]=ma.masked\n",
    "a3s_all[a3s_all==0]=ma.masked"
   ]
  },
  {
   "cell_type": "code",
   "execution_count": 4,
   "metadata": {},
   "outputs": [],
   "source": [
    "n_clusters=1000\n",
    "frameRate=16.\n",
    "dt=1/frameRate\n",
    "\n",
    "f = h5py.File(dir_path+'Foraging/symbol_sequences/labels_{}_clusters.h5'.format(n_clusters))\n",
    "labels_traj = ma.array(f['labels_traj'],dtype=int)\n",
    "mask_traj = np.array(f['mask_traj'],dtype=bool)\n",
    "labels_phspace = ma.array(f['labels_phspace'],dtype=int)\n",
    "mask_phspace = np.array(f['mask_phspace'],dtype=bool)\n",
    "centers_phspace = np.array(f['centers_phspace'])\n",
    "centers_traj = np.array(f['centers_traj'])\n",
    "f.close()\n",
    "\n",
    "labels_traj[mask_traj] = ma.masked\n",
    "labels_phspace[mask_phspace] = ma.masked"
   ]
  },
  {
   "cell_type": "code",
   "execution_count": 4,
   "metadata": {},
   "outputs": [
    {
     "name": "stdout",
     "output_type": "stream",
     "text": [
      "12\n"
     ]
    }
   ],
   "source": [
    "delay = int(.75*frameRate)\n",
    "print(delay)\n",
    "# delay=13\n",
    "lcs,P = op_calc.transition_matrix(labels_traj,delay,return_connected=True)\n",
    "final_labels = op_calc.get_connected_labels(labels_traj,lcs)\n",
    "n_modes=10\n",
    "inv_measure = op_calc.stationary_distribution(P)\n",
    "R = op_calc.get_reversible_transition_matrix(P)\n",
    "eigvals,eigvecs = op_calc.sorted_spectrum(R,k=n_modes)\n",
    "sorted_indices = np.argsort(eigvals.real)[::-1]\n",
    "eigvals = eigvals[sorted_indices][1:].real\n",
    "eigvals[np.abs(eigvals-1)<1e-12] = np.nan\n",
    "eigvals[eigvals<1e-12] = np.nan\n",
    "t_imp =  -(delay*dt)/np.log(eigvals)\n",
    "\n",
    "eigfunctions = eigvecs.real/np.linalg.norm(eigvecs.real,axis=0)\n",
    "eigfunctions_traj = ma.array(eigfunctions)[final_labels,:]\n",
    "eigfunctions_traj[final_labels.mask] = ma.masked\n",
    "\n",
    "phi2 = eigfunctions[:,1]"
   ]
  },
  {
   "cell_type": "code",
   "execution_count": 5,
   "metadata": {},
   "outputs": [
    {
     "name": "stdout",
     "output_type": "stream",
     "text": [
      "1\n",
      "1 [0.9058013610201572, 0.7152434371969076] [0.24603384630523925, 0.7539661536947606]\n"
     ]
    }
   ],
   "source": [
    "n_final_states=2\n",
    "labels_tree = op_calc.recursive_partitioning_optimal(final_labels,delay,phi2,inv_measure,R,n_final_states)"
   ]
  },
  {
   "cell_type": "code",
   "execution_count": 6,
   "metadata": {},
   "outputs": [],
   "source": [
    "worms = np.arange(12)\n",
    "len_w = 33600\n",
    "ensemble_labels_w=[]\n",
    "for worm in worms:\n",
    "    ensemble_labels_w.append(labels_traj[len_w*worm:len_w*(worm+1)])"
   ]
  },
  {
   "cell_type": "code",
   "execution_count": 7,
   "metadata": {},
   "outputs": [],
   "source": [
    "sims_w = []\n",
    "f = h5py.File(dir_path+'Foraging/ForagingData/symbol_sequence_simulations.h5','r')\n",
    "for worm in worms:\n",
    "    sims = np.array(f['{}/sims'.format(worm)],dtype=int)\n",
    "    sims_w.append(sims)\n",
    "f.close()"
   ]
  },
  {
   "cell_type": "code",
   "execution_count": 8,
   "metadata": {},
   "outputs": [],
   "source": [
    "def bootstrap_rates(l,n_times,confidence_interval=95):\n",
    "    per=(100-confidence_interval)/2\n",
    "    new_means=[]\n",
    "    for i in range(n_times):\n",
    "        indices=np.random.choice(range(0,len(l)),len(l))\n",
    "        new_list=[l[idx] for idx in indices]\n",
    "        new_means.append(ma.mean(new_list,axis=0))\n",
    "    new_means=ma.vstack(new_means)\n",
    "    cil=np.zeros(new_means.shape[1])\n",
    "    ciu=np.zeros(new_means.shape[1])\n",
    "    for i in range(new_means.shape[1]):\n",
    "        cil[i]=np.nanpercentile(1/new_means[:,i].filled(np.nan),per)\n",
    "        ciu[i]=np.nanpercentile(1/new_means[:,i].filled(np.nan),100-per)\n",
    "    cil = ma.masked_array(cil, np.isnan(cil))\n",
    "    ciu = ma.masked_array(ciu, np.isnan(ciu))\n",
    "    return 1/ma.mean(l,axis=0),cil,ciu"
   ]
  },
  {
   "cell_type": "code",
   "execution_count": 9,
   "metadata": {
    "scrolled": true
   },
   "outputs": [
    {
     "name": "stdout",
     "output_type": "stream",
     "text": [
      "0\n",
      "1\n",
      "2\n",
      "3\n",
      "4\n",
      "5\n",
      "6\n",
      "7\n",
      "8\n",
      "9\n",
      "10\n",
      "11\n"
     ]
    }
   ],
   "source": [
    "n_states=2\n",
    "\n",
    "mfpt_data_w = np.zeros((len(worms),2,3))\n",
    "mfpt_sim_w = np.zeros((len(worms),2,3))\n",
    "rates_data_w = np.zeros((len(worms),2,3))\n",
    "rates_sim_w = np.zeros((len(worms),2,3))\n",
    "\n",
    "for worm in worms:\n",
    "    labels = ensemble_labels_w[worm]\n",
    "    sims = sims_w[worm]\n",
    "\n",
    "    cluster_labels = labels_tree[n_states-2,:]\n",
    "    sims_lifetimes = [stats.state_lifetime(ma.array(cluster_labels[sim]),delay*dt) for sim in sims]\n",
    "\n",
    "    cluster_traj = ma.copy(labels)\n",
    "    cluster_traj[~labels.mask] = ma.array(cluster_labels)[labels[~labels.mask]]\n",
    "    cluster_traj[labels.mask] = ma.masked\n",
    "\n",
    "    data_lifetimes = stats.state_lifetime(cluster_traj[::delay],delay*dt)\n",
    "\n",
    "    for state_idx in range(2):\n",
    "        mfpt_data_w[worm,state_idx,:] = np.hstack(stats.bootstrap(data_lifetimes[state_idx],n_times=1000))\n",
    "        rates_data_w[worm,state_idx,:] = np.hstack(bootstrap_rates(data_lifetimes[state_idx],n_times=1000))\n",
    "        all_sim_means = [np.mean(sims_lifetimes[k][state_idx]) for k in range(len(sims_lifetimes))]\n",
    "        mfpt_sim_w[worm,state_idx,:] = np.mean(all_sim_means),np.percentile(all_sim_means,2.5),np.percentile(all_sim_means,97.5)\n",
    "        all_sim_rate_means = [1/np.mean(sims_lifetimes[k][state_idx]) for k in range(len(sims_lifetimes))]\n",
    "        mean_sim_rate = 1/np.hstack([sims_lifetimes[k][state_idx] for k in range(len(sims_lifetimes))]).mean()\n",
    "        rates_sim_w[worm,state_idx,:] = mean_sim_rate,np.percentile(all_sim_rate_means,2.5),np.percentile(all_sim_rate_means,97.5)\n",
    "        \n",
    "    print(worm)"
   ]
  },
  {
   "cell_type": "code",
   "execution_count": 10,
   "metadata": {},
   "outputs": [
    {
     "data": {
      "image/png": "[encoded data removed]",
      "text/plain": [
       "<Figure size 360x360 with 1 Axes>"
      ]
     },
     "metadata": {
      "needs_background": "light"
     },
     "output_type": "display_data"
    }
   ],
   "source": [
    "state_idx=0\n",
    "plt.figure(figsize=(5,5))\n",
    "for worm in worms:\n",
    "    mean,cil,ciu = rates_data_w[worm][state_idx]\n",
    "    mean_s,cil_s,ciu_s = rates_sim_w[worm][state_idx]\n",
    "    plt.errorbar(mean,mean_s,xerr=[[mean-cil],[ciu-mean]],yerr=[[mean_s-cil_s],[ciu_s-mean_s]],c=colors_state_[state_idx],capsize=0,marker='o',markersize=7)\n",
    "plt.errorbar(mean,mean_s,xerr=[[mean-cil],[ciu-mean]],yerr=[[mean_s-cil_s],[ciu_s-mean_s]],c=colors_state_[state_idx],capsize=0,marker='o',markersize=7,label='pir')\n",
    "\n",
    "\n",
    "state_idx=1\n",
    "# plt.figure(figsize=(5,5))\n",
    "for worm in worms:\n",
    "    mean,cil,ciu = rates_data_w[worm][state_idx]\n",
    "    mean_s,cil_s,ciu_s = rates_sim_w[worm][state_idx]\n",
    "    plt.errorbar(mean,mean_s,xerr=[[mean-cil],[ciu-mean]],yerr=[[mean_s-cil_s],[ciu_s-mean_s]],c='red',capsize=0,marker='o',markersize=7)\n",
    "plt.errorbar(mean,mean_s,xerr=[[mean-cil],[ciu-mean]],yerr=[[mean_s-cil_s],[ciu_s-mean_s]],c='red',capsize=0,marker='o',markersize=7,label='run')\n",
    "\n",
    "xrange=np.linspace(.02,.5,2)\n",
    "plt.plot(xrange,xrange,c='k',ls='--')\n",
    "# plt.axis('equal')\n",
    "plt.xticks(fontsize=12)\n",
    "plt.yticks(fontsize=12)\n",
    "plt.xlim(.02,.35)\n",
    "plt.ylim(.02,.35)\n",
    "plt.ylabel(r'$\\kappa_{sim}(s^{-1})$',fontsize=14)\n",
    "plt.xlabel(r'$\\kappa_{data}(s^{-1})$',fontsize=14)\n",
    "plt.legend()\n",
    "plt.tight_layout()\n",
    "# plt.savefig('rate_both_states.pdf')# plt.xlim(5,35)\n",
    "# plt.ylim(5,35)\n",
    "plt.show()"
   ]
  },
  {
   "cell_type": "code",
   "execution_count": 11,
   "metadata": {},
   "outputs": [
    {
     "data": {
      "image/png": "[encoded data removed]",
      "text/plain": [
       "<Figure size 360x360 with 1 Axes>"
      ]
     },
     "metadata": {
      "needs_background": "light"
     },
     "output_type": "display_data"
    }
   ],
   "source": [
    "state_idx=0\n",
    "plt.figure(figsize=(5,5))\n",
    "for worm in worms:\n",
    "    mean,cil,ciu = mfpt_data_w[worm][state_idx]\n",
    "    mean_s,cil_s,ciu_s = mfpt_sim_w[worm][state_idx]\n",
    "    plt.errorbar(mean,mean_s,xerr=[[mean-cil],[ciu-mean]],yerr=[[mean_s-cil_s],[ciu_s-mean_s]],c=colors_state_[state_idx],capsize=0,marker='o',markersize=7)\n",
    "plt.errorbar(mean,mean_s,xerr=[[mean-cil],[ciu-mean]],yerr=[[mean_s-cil_s],[ciu_s-mean_s]],c=colors_state_[state_idx],capsize=0,marker='o',markersize=7,label='pir')\n",
    "\n",
    "state_idx=1\n",
    "# plt.figure(figsize=(5,5))\n",
    "for worm in worms:\n",
    "    mean,cil,ciu = mfpt_data_w[worm][state_idx]\n",
    "    mean_s,cil_s,ciu_s = mfpt_sim_w[worm][state_idx]\n",
    "    plt.errorbar(mean,mean_s,xerr=[[mean-cil],[ciu-mean]],yerr=[[mean_s-cil_s],[ciu_s-mean_s]],c='red',capsize=0,marker='o',markersize=7)\n",
    "plt.errorbar(mean,mean_s,xerr=[[mean-cil],[ciu-mean]],yerr=[[mean_s-cil_s],[ciu_s-mean_s]],c='red',capsize=0,marker='o',markersize=7,label='run')\n",
    "\n",
    "xrange=np.arange(2,40)\n",
    "plt.legend()\n",
    "plt.plot(xrange,xrange,c='k',ls='--')\n",
    "# plt.axis('equal')\n",
    "plt.xticks(fontsize=12)\n",
    "plt.yticks(fontsize=12)\n",
    "plt.xlim(2,36)\n",
    "plt.ylim(2,36)\n",
    "plt.ylabel('$MFPT_{sim}$',fontsize=14)\n",
    "plt.xlabel('$MFPT_{data}$',fontsize=14)\n",
    "plt.tight_layout()\n",
    "# plt.savefig('mfpt_both_states.pdf')\n",
    "plt.show()"
   ]
  },
  {
   "cell_type": "code",
   "execution_count": null,
   "metadata": {},
   "outputs": [],
   "source": []
  }
 ],
 "metadata": {
  "kernelspec": {
   "display_name": "Python 3",
   "language": "python",
   "name": "python3"
  },
  "language_info": {
   "codemirror_mode": {
    "name": "ipython",
    "version": 3
   },
   "file_extension": ".py",
   "mimetype": "text/x-python",
   "name": "python",
   "nbconvert_exporter": "python",
   "pygments_lexer": "ipython3",
   "version": "3.7.4"
  }
 },
 "nbformat": 4,
 "nbformat_minor": 2
}
