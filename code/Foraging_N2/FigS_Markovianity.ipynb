{
 "cells": [
  {
   "cell_type": "code",
   "execution_count": 2,
   "metadata": {},
   "outputs": [],
   "source": [
    "#data format library\n",
    "import h5py\n",
    "#numpy\n",
    "import numpy as np\n",
    "import numpy.ma as ma\n",
    "import matplotlib.pyplot as plt\n",
    "# %matplotlib notebook\n",
    "from sklearn.cluster import KMeans\n",
    "\n",
    "import sys\n",
    "from mpl_toolkits.mplot3d import Axes3D\n",
    "import matplotlib.colors as colors\n",
    "import os\n",
    "from scipy.integrate import odeint\n",
    "#change path to where 'manuscript_data' is saved\n",
    "dir_path = '/home/antonio/Repositories/manuscript_data/'\n",
    "sys.path.append(dir_path+'/code/utils/')\n",
    "import operator_calculations as op_calc\n",
    "import delay_embedding as embed\n",
    "import worm_dynamics as worm_dyn\n",
    "import stats\n",
    "import clustering_methods as cl\n",
    "\n",
    "plt.rc('text', usetex=True)\n",
    "plt.rc('font',size=14)"
   ]
  },
  {
   "cell_type": "code",
   "execution_count": 3,
   "metadata": {},
   "outputs": [],
   "source": [
    "mat=h5py.File(dir_path+'Foraging/ForagingData/PNAS2011-DataStitched.mat','r')\n",
    "\n",
    "refs=list(mat['#refs#'].keys())[1:]\n",
    "tseries_w=[ma.masked_invalid(np.array(mat['#refs#'][ref]).T)[:,:5] for ref in refs]\n",
    "mat.close()\n",
    "frameRate=16.\n",
    "dt=1/frameRate"
   ]
  },
  {
   "cell_type": "markdown",
   "metadata": {},
   "source": [
    "# Coarse-grained estimate"
   ]
  },
  {
   "cell_type": "code",
   "execution_count": 4,
   "metadata": {},
   "outputs": [],
   "source": [
    "n_clusters=1000\n",
    "\n",
    "f = h5py.File(dir_path+'Foraging/kinetic_analysis/combined_coarse_tscales_results_{}_clusters.h5'.format(n_clusters),'r')\n",
    "delay_range = np.array(f['delay_range'])\n",
    "all_timps = np.array(f['timps'])\n",
    "f.close()"
   ]
  },
  {
   "cell_type": "code",
   "execution_count": 5,
   "metadata": {
    "scrolled": true
   },
   "outputs": [
    {
     "data": {
      "image/png": "[encoded data removed]",
      "text/plain": [
       "<Figure size 360x360 with 1 Axes>"
      ]
     },
     "metadata": {
      "needs_background": "light"
     },
     "output_type": "display_data"
    }
   ],
   "source": [
    "plt.figure(figsize=(5,5))\n",
    "mean,cil,ciu = stats.bootstrap(all_timps[:,:200],n_times=5000)\n",
    "plt.errorbar(delay_range[:200][::2]*dt,mean[::2],yerr = [mean[::2]-cil[::2],ciu[::2]-mean[::2]],marker='o',capsize=2)\n",
    "plt.errorbar(delay_range[11]*dt,mean[11],yerr = [[mean[11]-cil[11]],[ciu[11]-mean[11]]],marker='o',capsize=3,c='k')\n",
    "plt.axhline(mean[11],c='k',ls='--')\n",
    "xmax=12\n",
    "plt.fill_between(np.arange(0,xmax+1),np.ones(xmax+1)*cil[11],np.ones(xmax+1)*ciu[11],color='k',alpha=.2)\n",
    "\n",
    "# plt.fill_between(delay_range*dt,cil,ciu,alpha=.5)\n",
    "# plt.xscale('log')\n",
    "plt.xlim(0,xmax)\n",
    "plt.ylim(0,10)\n",
    "# plt.axvline(0.75,ls='--',c='k')\n",
    "plt.xlabel(r'$\\tau (s)$')\n",
    "plt.ylabel(r'$\\Lambda_2^{-1}(s)$')\n",
    "# plt.savefig('coarse_tscales_Foraging_{}_clusters.pdf'.format(n_clusters))\n",
    "plt.show()"
   ]
  },
  {
   "cell_type": "code",
   "execution_count": 6,
   "metadata": {},
   "outputs": [
    {
     "data": {
      "text/plain": [
       "(3.4838846, 3.034457314014435, 3.8591618180274962)"
      ]
     },
     "execution_count": 6,
     "metadata": {},
     "output_type": "execute_result"
    }
   ],
   "source": [
    "mean[11],cil[11],ciu[11]"
   ]
  },
  {
   "cell_type": "markdown",
   "metadata": {},
   "source": [
    "# Full P estimate"
   ]
  },
  {
   "cell_type": "code",
   "execution_count": 7,
   "metadata": {},
   "outputs": [],
   "source": [
    "f = h5py.File(dir_path+'Foraging/kinetic_analysis/combined_kinetic_results_clusters_{}_simpler.h5'.format(n_clusters),'r')\n",
    "idx_range = np.sort(np.array(list(f.keys()),dtype=int))\n",
    "delay_range = np.arange(2,400,2)\n",
    "all_timps = np.zeros((len(idx_range),len(delay_range),2))\n",
    "kidx=0\n",
    "for idx in idx_range:\n",
    "    if len(list(f[str(idx)].keys()))>0:\n",
    "        if  np.array(f[str(idx)]['timps']).sum()>0:\n",
    "            all_timps[kidx] = np.array(f[str(idx)]['timps'])\n",
    "            kidx+=1\n",
    "f.close()"
   ]
  },
  {
   "cell_type": "code",
   "execution_count": 8,
   "metadata": {},
   "outputs": [
    {
     "name": "stderr",
     "output_type": "stream",
     "text": [
      "/home/antonio/anaconda3/lib/python3.7/site-packages/ipykernel_launcher.py:1: RuntimeWarning: divide by zero encountered in true_divide\n",
      "  \"\"\"Entry point for launching an IPython kernel.\n"
     ]
    }
   ],
   "source": [
    "Lambda2 = 1/all_timps[:,:,0]+ 1/all_timps[:,:,1]"
   ]
  },
  {
   "cell_type": "code",
   "execution_count": 9,
   "metadata": {},
   "outputs": [],
   "source": [
    "mean,cil,ciu = stats.bootstrap(2/Lambda2,n_times=5000)"
   ]
  },
  {
   "cell_type": "code",
   "execution_count": 10,
   "metadata": {},
   "outputs": [
    {
     "data": {
      "image/png": "[encoded data removed]",
      "text/plain": [
       "<Figure size 360x360 with 1 Axes>"
      ]
     },
     "metadata": {
      "needs_background": "light"
     },
     "output_type": "display_data"
    }
   ],
   "source": [
    "plt.figure(figsize=(5,5))\n",
    "plt.errorbar(delay_range*dt,mean,yerr = [mean-cil,ciu-mean],marker='o',capsize=2)\n",
    "plt.errorbar(delay_range[11]*dt,mean[11],yerr = [[mean[11]-cil[11]],[ciu[11]-mean[11]]],marker='o',capsize=3,c='k')\n",
    "plt.axhline(mean[11],c='k',ls='--')\n",
    "xmax=10\n",
    "plt.fill_between(np.arange(0,xmax+1),np.ones(xmax+1)*cil[11],np.ones(xmax+1)*ciu[11],color='k',alpha=.2)\n",
    "\n",
    "# plt.fill_between(delay_range*dt,cil,ciu,alpha=.5)\n",
    "# plt.xscale('log')\n",
    "plt.xlim(0,xmax)\n",
    "plt.ylim(0,10)\n",
    "# plt.axvline(0.75,ls='--',c='k')\n",
    "plt.show()"
   ]
  },
  {
   "cell_type": "code",
   "execution_count": null,
   "metadata": {},
   "outputs": [],
   "source": []
  }
 ],
 "metadata": {
  "kernelspec": {
   "display_name": "Python 3",
   "language": "python",
   "name": "python3"
  },
  "language_info": {
   "codemirror_mode": {
    "name": "ipython",
    "version": 3
   },
   "file_extension": ".py",
   "mimetype": "text/x-python",
   "name": "python",
   "nbconvert_exporter": "python",
   "pygments_lexer": "ipython3",
   "version": "3.7.4"
  }
 },
 "nbformat": 4,
 "nbformat_minor": 2
}
